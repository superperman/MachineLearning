{
 "cells": [
  {
   "cell_type": "code",
   "execution_count": 1,
   "metadata": {},
   "outputs": [],
   "source": [
    "import numpy as np\n",
    "import pandas as pd\n",
    "import os"
   ]
  },
  {
   "cell_type": "code",
   "execution_count": 5,
   "metadata": {},
   "outputs": [],
   "source": [
    "# define a class including all parameter\n",
    "class Para:\n",
    "    method = 'SVM'\n",
    "    month_in_sample = range(1,62 + 1) #return in-sample months\n",
    "    month_test = range(63,124 + 1) #return test months\n",
    "    percent_select = [0.3,0.3] # 30% positive samples, 30% NEGATIVE SAMPLES\n",
    "    percent_cv = 0.1 #10% cross validation samples\n",
    "    path_data = os.getcwd() + '\\\\csv\\\\'\n",
    "    path_results = os.getcwd() + '\\\\results_demo\\\\'\n",
    "    seed = 2019\n",
    "    svm_kernel = 'linear'\n",
    "    svm_c = 0.01\n",
    "    #n_stock=100\n",
    "para = Para()"
   ]
  },
  {
   "cell_type": "code",
   "execution_count": 6,
   "metadata": {},
   "outputs": [],
   "source": [
    "def label_data(data):\n",
    "    data['return_bin'] = np.nan\n",
    "    data = data.sort_values(by = 'return',ascending = False)\n",
    "    # decide how much stocks will be selected\n",
    "    n_stock_select = np.multiply(para.percent_select,data.shape[0])\n",
    "    n_stock_select = np.around(n_stock_select).astype(int)\n",
    "    data.iloc[0:n_stock_select[0],-1] = 1\n",
    "    data.iloc[-n_stock_select[1]:,-1] = 0\n",
    "    data = data.dropna(axis=0)\n",
    "    return data\n"
   ]
  },
  {
   "cell_type": "code",
   "execution_count": null,
   "metadata": {},
   "outputs": [],
   "source": []
  },
  {
   "cell_type": "code",
   "execution_count": 8,
   "metadata": {},
   "outputs": [],
   "source": [
    "#generate in-sample data\n",
    "for i_month in para.month_in_sample:\n",
    "    file_name = para.path_data + str(i_month) + '.csv'\n",
    "    data_curr_month = pd.read_csv(file_name, header=0)\n",
    "    para.n_stock = data_curr_month.shape[0]\n",
    "\n",
    "    data_curr_month = data_curr_month.dropna(axis=0)\n",
    "    # label data\n",
    "    data_curr_month = label_data(data_curr_month)\n",
    "    if i_month == para.month_in_sample[0]: \n",
    "        data_in_sample = data_curr_month\n",
    "    else:\n",
    "        data_in_sample = data_in_sample.append(data_curr_month)\n"
   ]
  },
  {
   "cell_type": "code",
   "execution_count": null,
   "metadata": {},
   "outputs": [],
   "source": []
  },
  {
   "cell_type": "code",
   "execution_count": 9,
   "metadata": {},
   "outputs": [],
   "source": [
    "# generate training and cv sets\n",
    "X_in_sample = data_in_sample.loc[:, 'beta':'MFI14']\n",
    "y_in_sample = data_in_sample.loc[:, 'return_bin']\n",
    "from sklearn.model_selection import train_test_split\n",
    "X_train, X_cv, y_train, y_cv = train_test_split(X_in_sample, y_in_sample, test_size=para.percent_cv, random_state=para.seed)\n",
    "# PCA\n",
    "from sklearn import decomposition\n",
    "pca = decomposition.PCA(n_components=0.95)\n",
    "pca.fit(X_train)\n",
    "X_train = pca.transform(X_train) \n",
    "X_cv = pca.transform(X_cv)"
   ]
  },
  {
   "cell_type": "code",
   "execution_count": 10,
   "metadata": {},
   "outputs": [],
   "source": [
    "# preprocessing\n",
    "from sklearn import preprocessing\n",
    "scaler = preprocessing.StandardScaler().fit(X_train)\n",
    "X_train = scaler.transform(X_train)\n",
    "X_cv = scaler.transform(X_cv)"
   ]
  },
  {
   "cell_type": "code",
   "execution_count": 11,
   "metadata": {},
   "outputs": [],
   "source": [
    "# set model\n",
    "if para.method == 'SVM':\n",
    "    from sklearn import svm\n",
    "    model = svm.SVC(kernel=para.svm_kernel, C=para.svm_c)"
   ]
  },
  {
   "cell_type": "code",
   "execution_count": 12,
   "metadata": {},
   "outputs": [
    {
     "data": {
      "text/plain": [
       "SVC(C=0.01, cache_size=200, class_weight=None, coef0=0.0,\n",
       "  decision_function_shape='ovr', degree=3, gamma='auto_deprecated',\n",
       "  kernel='linear', max_iter=-1, probability=False, random_state=None,\n",
       "  shrinking=True, tol=0.001, verbose=False)"
      ]
     },
     "execution_count": 12,
     "metadata": {},
     "output_type": "execute_result"
    }
   ],
   "source": [
    "model"
   ]
  },
  {
   "cell_type": "code",
   "execution_count": 13,
   "metadata": {},
   "outputs": [
    {
     "data": {
      "text/html": [
       "<div>\n",
       "<style scoped>\n",
       "    .dataframe tbody tr th:only-of-type {\n",
       "        vertical-align: middle;\n",
       "    }\n",
       "\n",
       "    .dataframe tbody tr th {\n",
       "        vertical-align: top;\n",
       "    }\n",
       "\n",
       "    .dataframe thead th {\n",
       "        text-align: right;\n",
       "    }\n",
       "</style>\n",
       "<table border=\"1\" class=\"dataframe\">\n",
       "  <thead>\n",
       "    <tr style=\"text-align: right;\">\n",
       "      <th></th>\n",
       "      <th>0</th>\n",
       "      <th>1</th>\n",
       "      <th>2</th>\n",
       "      <th>3</th>\n",
       "      <th>4</th>\n",
       "      <th>5</th>\n",
       "      <th>6</th>\n",
       "      <th>7</th>\n",
       "      <th>8</th>\n",
       "      <th>9</th>\n",
       "      <th>...</th>\n",
       "      <th>32</th>\n",
       "      <th>33</th>\n",
       "      <th>34</th>\n",
       "      <th>35</th>\n",
       "      <th>36</th>\n",
       "      <th>37</th>\n",
       "      <th>38</th>\n",
       "      <th>39</th>\n",
       "      <th>40</th>\n",
       "      <th>41</th>\n",
       "    </tr>\n",
       "  </thead>\n",
       "  <tbody>\n",
       "    <tr>\n",
       "      <th>63160</th>\n",
       "      <td>-0.761618</td>\n",
       "      <td>0.903000</td>\n",
       "      <td>-1.372777</td>\n",
       "      <td>0.446470</td>\n",
       "      <td>-0.660306</td>\n",
       "      <td>0.165650</td>\n",
       "      <td>1.431948</td>\n",
       "      <td>-1.209054</td>\n",
       "      <td>0.289839</td>\n",
       "      <td>1.010978</td>\n",
       "      <td>...</td>\n",
       "      <td>-0.815243</td>\n",
       "      <td>-1.546771</td>\n",
       "      <td>1.134858</td>\n",
       "      <td>0.561157</td>\n",
       "      <td>0.116055</td>\n",
       "      <td>-0.741031</td>\n",
       "      <td>-1.092319</td>\n",
       "      <td>-1.248569</td>\n",
       "      <td>-0.021005</td>\n",
       "      <td>1.867282</td>\n",
       "    </tr>\n",
       "    <tr>\n",
       "      <th>63161</th>\n",
       "      <td>1.198555</td>\n",
       "      <td>0.009350</td>\n",
       "      <td>0.258896</td>\n",
       "      <td>0.138273</td>\n",
       "      <td>0.195825</td>\n",
       "      <td>1.290667</td>\n",
       "      <td>-1.689487</td>\n",
       "      <td>0.157464</td>\n",
       "      <td>0.737597</td>\n",
       "      <td>-1.091946</td>\n",
       "      <td>...</td>\n",
       "      <td>0.329264</td>\n",
       "      <td>-0.784252</td>\n",
       "      <td>-1.603605</td>\n",
       "      <td>0.880039</td>\n",
       "      <td>-0.324173</td>\n",
       "      <td>-1.788841</td>\n",
       "      <td>-0.802140</td>\n",
       "      <td>-0.395198</td>\n",
       "      <td>0.313553</td>\n",
       "      <td>0.164142</td>\n",
       "    </tr>\n",
       "    <tr>\n",
       "      <th>63162</th>\n",
       "      <td>0.319523</td>\n",
       "      <td>0.281559</td>\n",
       "      <td>-0.670156</td>\n",
       "      <td>-0.548483</td>\n",
       "      <td>-1.099273</td>\n",
       "      <td>0.998638</td>\n",
       "      <td>-0.332319</td>\n",
       "      <td>0.493475</td>\n",
       "      <td>-0.321238</td>\n",
       "      <td>1.319294</td>\n",
       "      <td>...</td>\n",
       "      <td>0.009572</td>\n",
       "      <td>-0.254984</td>\n",
       "      <td>0.300632</td>\n",
       "      <td>0.839267</td>\n",
       "      <td>-0.260203</td>\n",
       "      <td>-0.059972</td>\n",
       "      <td>-0.420644</td>\n",
       "      <td>-0.067476</td>\n",
       "      <td>0.305804</td>\n",
       "      <td>-0.025650</td>\n",
       "    </tr>\n",
       "    <tr>\n",
       "      <th>63163</th>\n",
       "      <td>1.379614</td>\n",
       "      <td>-0.398023</td>\n",
       "      <td>-0.489692</td>\n",
       "      <td>-0.714350</td>\n",
       "      <td>0.420999</td>\n",
       "      <td>-1.833134</td>\n",
       "      <td>0.468929</td>\n",
       "      <td>0.612118</td>\n",
       "      <td>-0.046011</td>\n",
       "      <td>-1.633370</td>\n",
       "      <td>...</td>\n",
       "      <td>-0.013343</td>\n",
       "      <td>-0.324225</td>\n",
       "      <td>-1.633781</td>\n",
       "      <td>0.029009</td>\n",
       "      <td>0.890089</td>\n",
       "      <td>-0.281499</td>\n",
       "      <td>-0.223344</td>\n",
       "      <td>0.303193</td>\n",
       "      <td>0.980554</td>\n",
       "      <td>1.382236</td>\n",
       "    </tr>\n",
       "    <tr>\n",
       "      <th>63164</th>\n",
       "      <td>-0.789582</td>\n",
       "      <td>-0.094099</td>\n",
       "      <td>-0.665696</td>\n",
       "      <td>-0.825249</td>\n",
       "      <td>1.416677</td>\n",
       "      <td>-0.720642</td>\n",
       "      <td>-0.841495</td>\n",
       "      <td>0.330707</td>\n",
       "      <td>-0.601267</td>\n",
       "      <td>0.205831</td>\n",
       "      <td>...</td>\n",
       "      <td>0.294027</td>\n",
       "      <td>-0.520682</td>\n",
       "      <td>-0.545138</td>\n",
       "      <td>1.139243</td>\n",
       "      <td>-0.096900</td>\n",
       "      <td>-0.752697</td>\n",
       "      <td>0.881194</td>\n",
       "      <td>-0.744197</td>\n",
       "      <td>-0.180976</td>\n",
       "      <td>0.254868</td>\n",
       "    </tr>\n",
       "  </tbody>\n",
       "</table>\n",
       "<p>5 rows × 42 columns</p>\n",
       "</div>"
      ],
      "text/plain": [
       "             0         1         2         3         4         5         6   \\\n",
       "63160 -0.761618  0.903000 -1.372777  0.446470 -0.660306  0.165650  1.431948   \n",
       "63161  1.198555  0.009350  0.258896  0.138273  0.195825  1.290667 -1.689487   \n",
       "63162  0.319523  0.281559 -0.670156 -0.548483 -1.099273  0.998638 -0.332319   \n",
       "63163  1.379614 -0.398023 -0.489692 -0.714350  0.420999 -1.833134  0.468929   \n",
       "63164 -0.789582 -0.094099 -0.665696 -0.825249  1.416677 -0.720642 -0.841495   \n",
       "\n",
       "             7         8         9   ...        32        33        34  \\\n",
       "63160 -1.209054  0.289839  1.010978  ... -0.815243 -1.546771  1.134858   \n",
       "63161  0.157464  0.737597 -1.091946  ...  0.329264 -0.784252 -1.603605   \n",
       "63162  0.493475 -0.321238  1.319294  ...  0.009572 -0.254984  0.300632   \n",
       "63163  0.612118 -0.046011 -1.633370  ... -0.013343 -0.324225 -1.633781   \n",
       "63164  0.330707 -0.601267  0.205831  ...  0.294027 -0.520682 -0.545138   \n",
       "\n",
       "             35        36        37        38        39        40        41  \n",
       "63160  0.561157  0.116055 -0.741031 -1.092319 -1.248569 -0.021005  1.867282  \n",
       "63161  0.880039 -0.324173 -1.788841 -0.802140 -0.395198  0.313553  0.164142  \n",
       "63162  0.839267 -0.260203 -0.059972 -0.420644 -0.067476  0.305804 -0.025650  \n",
       "63163  0.029009  0.890089 -0.281499 -0.223344  0.303193  0.980554  1.382236  \n",
       "63164  1.139243 -0.096900 -0.752697  0.881194 -0.744197 -0.180976  0.254868  \n",
       "\n",
       "[5 rows x 42 columns]"
      ]
     },
     "execution_count": 13,
     "metadata": {},
     "output_type": "execute_result"
    }
   ],
   "source": [
    "pd.DataFrame(X_train).tail()"
   ]
  },
  {
   "cell_type": "code",
   "execution_count": 14,
   "metadata": {},
   "outputs": [],
   "source": [
    "if para.method == 'SVM':\n",
    "    model.fit(X_train,y_train)\n",
    "    y_pred_train = model.predict(X_train) \n",
    "    y_score_train = model.decision_function(X_train)\n",
    "    y_pred_cv = model.predict(X_cv) \n",
    "    y_score_cv = model.decision_function(X_cv)"
   ]
  },
  {
   "cell_type": "code",
   "execution_count": 15,
   "metadata": {},
   "outputs": [],
   "source": [
    "# initialize\n",
    "y_true_test = pd.DataFrame([np.nan] * np.ones((para.n_stock,para.month_test[-1])))\n",
    "y_pred_test = pd.DataFrame([np.nan] * np.ones((para.n_stock,para.month_test[-1])))\n",
    "y_score_test = pd.DataFrame([np.nan] * np.ones((para.n_stock,para.month_test[-1])))"
   ]
  },
  {
   "cell_type": "code",
   "execution_count": 16,
   "metadata": {
    "scrolled": true
   },
   "outputs": [],
   "source": [
    "# loop  for months\n",
    "for i_month in para.month_test:\n",
    "    file_name = para.path_data + str(i_month) + '.csv' \n",
    "    data_curr_month = pd.read_csv(file_name, header = 0)\n",
    "    data_curr_month = data_curr_month.dropna(axis=0) #-- remove nan\n",
    "    X_curr_month = data_curr_month.loc[:,'beta':'MFI14'] #-- generate X\n",
    "    X_curr_month = pca.transform(X_curr_month) #-- pca\n",
    "    \n",
    "    # predict\n",
    "    if para.method== 'SVM':\n",
    "        y_pred_curr_month = model.predict(X_curr_month) \n",
    "        y_score_curr_month = model.decision_function(X_curr_month)\n",
    "    \n",
    "    #save true and predicted return\n",
    "    y_true_test.iloc[data_curr_month.index,i_month-1]=data_curr_month['return'][data_curr_month.index]\n",
    "    y_pred_test.iloc[data_curr_month.index,i_month-1]=y_pred_curr_month\n",
    "    y_score_test.iloc[data_curr_month.index,i_month-1]=y_score_curr_month"
   ]
  },
  {
   "cell_type": "code",
   "execution_count": 17,
   "metadata": {},
   "outputs": [
    {
     "data": {
      "text/plain": [
       "124"
      ]
     },
     "execution_count": 17,
     "metadata": {},
     "output_type": "execute_result"
    }
   ],
   "source": [
    "i_month"
   ]
  },
  {
   "cell_type": "code",
   "execution_count": 18,
   "metadata": {},
   "outputs": [
    {
     "name": "stdout",
     "output_type": "stream",
     "text": [
      "training set, accuracy = 0.55\n",
      "training set, AUC = 0.57\n",
      "cv set, accuracy = 0.55\n",
      "cv set, AUC = 0.57\n",
      "test set, month 124, accuracy = 0.52\n",
      "test set, month 124, AUC = 0.54\n"
     ]
    }
   ],
   "source": [
    "# evaluate the training and cv sets\n",
    "from sklearn import metrics\n",
    "print('training set, accuracy = %.2f'%metrics.accuracy_score(y_train, y_pred_train)) \n",
    "print('training set, AUC = %.2f'%metrics.roc_auc_score(y_train, y_score_train))\n",
    "print('cv set, accuracy = %.2f'%metrics.accuracy_score(y_cv, y_pred_cv)) \n",
    "print('cv set, AUC = %.2f'%metrics.roc_auc_score(y_cv, y_score_cv))\n",
    "\n",
    "# evaluate the testing set by months\n",
    "for i_month in para.month_test:\n",
    "    y_true_curr_month = pd.DataFrame({'return':y_true_test.iloc[:,i_month-1]}) \n",
    "    y_pred_curr_month = y_pred_test.iloc[:,i_month-1]\n",
    "    y_score_curr_month = y_score_test.iloc[:,i_month-1]\n",
    "    y_true_curr_month = y_true_curr_month.dropna(axis=0)\n",
    "    y_curr_month = label_data(y_true_curr_month)['return_bin']\n",
    "y_pred_curr_month = y_pred_curr_month[y_curr_month.index] \n",
    "y_score_curr_month = y_score_curr_month[y_curr_month.index]\n",
    "print('test set, month %d, accuracy = %.2f'%(i_month, metrics.accuracy_score(y_curr_month, y_pred_curr_month)))\n",
    "print('test set, month %d, AUC = %.2f'%(i_month, metrics.roc_auc_score(y_curr_month, y_score_curr_month)))\n"
   ]
  },
  {
   "cell_type": "code",
   "execution_count": 19,
   "metadata": {},
   "outputs": [],
   "source": [
    "# initialize a strategy\n",
    "para.n_stock_select = 100\n",
    "strategy = pd.DataFrame({'return':[0] * para.month_test[-1],'value':[1] * para.month_test[-1]})\n",
    "for i_month in para.month_test:\n",
    "    y_true_curr_month = y_true_test.iloc[:,i_month-1] \n",
    "    y_score_curr_month = y_score_test.iloc[:,i_month-1]\n",
    "    y_score_curr_month = y_score_curr_month.sort_values(ascending=False)\n",
    "    index_select = y_score_curr_month[0:para.n_stock_select].index\n",
    "    strategy.loc[i_month-1,'return'] = np.mean(y_true_curr_month[index_select])\n",
    "    strategy['value'] = (strategy['return']+1).cumprod()\n",
    "    "
   ]
  },
  {
   "cell_type": "code",
   "execution_count": 21,
   "metadata": {},
   "outputs": [
    {
     "data": {
      "image/png": "[encoded data removed]",
      "text/plain": [
       "<Figure size 432x288 with 1 Axes>"
      ]
     },
     "metadata": {
      "needs_background": "light"
     },
     "output_type": "display_data"
    }
   ],
   "source": [
    "# plot the value\n",
    "import matplotlib.pyplot as plt\n",
    "plt.plot(para.month_test,strategy.loc[para.month_test,'value'],'r-') \n",
    "plt.show()\n"
   ]
  },
  {
   "cell_type": "code",
   "execution_count": 22,
   "metadata": {},
   "outputs": [
    {
     "name": "stdout",
     "output_type": "stream",
     "text": [
      "annual excess return = 0.49\n",
      "annual excess volatility = 0.45\n",
      "information ratio = 1.07\n"
     ]
    }
   ],
   "source": [
    "# evaluation\n",
    "ann_excess_return = np.mean(strategy.loc[para.month_test,'return']) * 12\n",
    "ann_excess_vol = np.std(strategy.loc[para.month_test,'return']) * np.sqrt(12)\n",
    "info_ratio = ann_excess_return/ann_excess_vol\n",
    "print('annual excess return = %.2f'%ann_excess_return) \n",
    "print('annual excess volatility = %.2f'%ann_excess_vol) \n",
    "print('information ratio = %.2f'%info_ratio)\n"
   ]
  },
  {
   "cell_type": "code",
   "execution_count": 23,
   "metadata": {},
   "outputs": [],
   "source": [
    "# save resulrs\n",
    "import os\n",
    "if not os.path.exists(para.path_results): \n",
    "    os.makedirs(para.path_results)\n",
    "    filename = para.path_results + 'dataTestYhat.csv'\n",
    "    y_score_test.to_csv(filename,header=0,index=False)\n"
   ]
  },
  {
   "cell_type": "code",
   "execution_count": null,
   "metadata": {},
   "outputs": [],
   "source": []
  }
 ],
 "metadata": {
  "kernelspec": {
   "display_name": "Python 3",
   "language": "python",
   "name": "python3"
  },
  "language_info": {
   "codemirror_mode": {
    "name": "ipython",
    "version": 3
   },
   "file_extension": ".py",
   "mimetype": "text/x-python",
   "name": "python",
   "nbconvert_exporter": "python",
   "pygments_lexer": "ipython3",
   "version": "3.7.3"
  }
 },
 "nbformat": 4,
 "nbformat_minor": 2
}
