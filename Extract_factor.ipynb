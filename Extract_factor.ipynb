{
 "cells": [
  {
   "cell_type": "code",
   "execution_count": 1,
   "metadata": {},
   "outputs": [],
   "source": [
    "from jqfactor import *\n",
    "import numpy as np\n",
    "import pandas as pd\n",
    "import datetime"
   ]
  },
  {
   "cell_type": "code",
   "execution_count": 2,
   "metadata": {},
   "outputs": [],
   "source": [
    "idx=np.array(get_all_securities().index)\n",
    "factorList=np.array(get_all_factors()['factor'][[0,1,2,3,4,5,6,7,8,9,\n",
    "                                                 10,12,13,15,17,18,19,\n",
    "                                                 25,27,29,33,42,47,48,\n",
    "                                                 49,52,55,57,62,74,92,\n",
    "                                                 96,97,102,105,106,107,\n",
    "                                                 111,112,116,117,118,119,\n",
    "                                                 121,122,123,125,127,128,\n",
    "                                                 129,130,132,133,134,137,\n",
    "                                                 138,140,142,143,147,155,\n",
    "                                                 188,189,192,195,198,201,\n",
    "                                                 203,207,215]])"
   ]
  },
  {
   "cell_type": "code",
   "execution_count": 3,
   "metadata": {},
   "outputs": [],
   "source": [
    "TR=pd.read_excel('TR.xlsx')"
   ]
  },
  {
   "cell_type": "code",
   "execution_count": 4,
   "metadata": {},
   "outputs": [],
   "source": [
    "def Extract_data(DF):\n",
    "    temp=[]\n",
    "    loop=DF.shape[0]\n",
    "    for i in range(loop):\n",
    "        flag=np.where(~np.isnan(DF.iloc[i,:]))[0]\n",
    "        if len(flag)==0:\n",
    "            temp.append(np.nan)\n",
    "        else:\n",
    "            temp.append(DF.iloc[i,flag[0]])\n",
    "    return np.array(temp)"
   ]
  },
  {
   "cell_type": "code",
   "execution_count": 5,
   "metadata": {},
   "outputs": [],
   "source": [
    "def label(x):\n",
    "    data=pd.DataFrame(index=idx)\n",
    "    data['month']=x+1\n",
    "    data['label']=0\n",
    "    data['return']=TR[date[x+1]]\n",
    "    # time label\n",
    "    t=get_all_securities(types=['stock'], date=None)['start_date']\n",
    "    now=datetime.datetime.strptime(date[x], '%Y-%m-%d').date()\n",
    "    # st label\n",
    "    st=1-get_extras('is_st', [*idx], start_date=date[x], end_date=date[x+1], df=True).T.mean(axis=1)\n",
    "    st[st[st>0][st<0.5].index]=0\n",
    "    st[st[st>0.5][st<1].index]=1\n",
    "    #label\n",
    "    data.loc[((now-t).dt.days/90>3)&(st==1),'label']=1\n",
    "    return data"
   ]
  },
  {
   "cell_type": "code",
   "execution_count": 15,
   "metadata": {},
   "outputs": [
    {
     "data": {
      "text/plain": [
       "array([2009-01-28, 2009-02-28, 2009-03-28, 2009-04-28, 2009-05-28,\n",
       "       2009-06-28, 2009-07-28, 2009-08-28, 2009-09-28, 2009-10-28,\n",
       "       2009-11-28, 2009-12-28, 2010-01-28, 2010-02-28, 2010-03-28,\n",
       "       2010-04-28, 2010-05-28, 2010-06-28, 2010-07-28, 2010-08-28,\n",
       "       2010-09-28, 2010-10-28, 2010-11-28, 2010-12-28, 2011-01-28,\n",
       "       2011-02-28, 2011-03-28, 2011-04-28, 2011-05-28, 2011-06-28,\n",
       "       2011-07-28, 2011-08-28, 2011-09-28, 2011-10-28, 2011-11-28,\n",
       "       2011-12-28], dtype='<U10')"
      ]
     },
     "execution_count": 15,
     "metadata": {},
     "output_type": "execute_result"
    }
   ],
   "source": [
    "year=np.arange(2009,2012)  # change according to the year assigned\n",
    "month=['01','02','03','04','05','06','07','08','09','10','11','12']\n",
    "day=28\n",
    "\n",
    "date=[]\n",
    "for y in year:\n",
    "    for m in month:\n",
    "        date.append(str(y)+'-'+str(m)+'-'+str(day))\n",
    "date=np.array(date) \n",
    "date"
   ]
  },
  {
   "cell_type": "code",
   "execution_count": 10,
   "metadata": {
    "scrolled": true
   },
   "outputs": [
    {
     "ename": "IndexError",
     "evalue": "index 12 is out of bounds for axis 0 with size 12",
     "output_type": "error",
     "traceback": [
      "\u001b[0;31m---------------------------------------------------------------------------\u001b[0m",
      "\u001b[0;31mIndexError\u001b[0m                                Traceback (most recent call last)",
      "\u001b[0;32m<ipython-input-10-7e285695dc20>\u001b[0m in \u001b[0;36m<module>\u001b[0;34m\u001b[0m\n\u001b[1;32m      1\u001b[0m \u001b[0;32mfor\u001b[0m \u001b[0mi\u001b[0m \u001b[0;32min\u001b[0m \u001b[0mrange\u001b[0m\u001b[0;34m(\u001b[0m\u001b[0;36m12\u001b[0m\u001b[0;34m)\u001b[0m\u001b[0;34m:\u001b[0m  \u001b[0;31m#change according to the total month\u001b[0m\u001b[0;34m\u001b[0m\u001b[0;34m\u001b[0m\u001b[0m\n\u001b[0;32m----> 2\u001b[0;31m     \u001b[0mdata\u001b[0m\u001b[0;34m=\u001b[0m\u001b[0mlabel\u001b[0m\u001b[0;34m(\u001b[0m\u001b[0mi\u001b[0m\u001b[0;34m)\u001b[0m\u001b[0;34m\u001b[0m\u001b[0;34m\u001b[0m\u001b[0m\n\u001b[0m\u001b[1;32m      3\u001b[0m     \u001b[0;32mfor\u001b[0m \u001b[0mfct\u001b[0m \u001b[0;32min\u001b[0m \u001b[0mfactorList\u001b[0m\u001b[0;34m:\u001b[0m\u001b[0;34m\u001b[0m\u001b[0;34m\u001b[0m\u001b[0m\n\u001b[1;32m      4\u001b[0m         \u001b[0mfactor_data\u001b[0m\u001b[0;34m=\u001b[0m\u001b[0mget_factor_values\u001b[0m\u001b[0;34m(\u001b[0m\u001b[0msecurities\u001b[0m\u001b[0;34m=\u001b[0m\u001b[0;34m[\u001b[0m\u001b[0;34m*\u001b[0m\u001b[0midx\u001b[0m\u001b[0;34m]\u001b[0m\u001b[0;34m,\u001b[0m\u001b[0mfactors\u001b[0m\u001b[0;34m=\u001b[0m\u001b[0;34m[\u001b[0m\u001b[0mfct\u001b[0m\u001b[0;34m]\u001b[0m\u001b[0;34m,\u001b[0m\u001b[0mstart_date\u001b[0m\u001b[0;34m=\u001b[0m\u001b[0mstr\u001b[0m\u001b[0;34m(\u001b[0m\u001b[0mdate\u001b[0m\u001b[0;34m[\u001b[0m\u001b[0mi\u001b[0m\u001b[0;34m]\u001b[0m\u001b[0;34m)\u001b[0m\u001b[0;34m,\u001b[0m \u001b[0mend_date\u001b[0m\u001b[0;34m=\u001b[0m\u001b[0mstr\u001b[0m\u001b[0;34m(\u001b[0m\u001b[0mdate\u001b[0m\u001b[0;34m[\u001b[0m\u001b[0mi\u001b[0m\u001b[0;34m+\u001b[0m\u001b[0;36m1\u001b[0m\u001b[0;34m]\u001b[0m\u001b[0;34m)\u001b[0m\u001b[0;34m)\u001b[0m\u001b[0;34m\u001b[0m\u001b[0;34m\u001b[0m\u001b[0m\n\u001b[1;32m      5\u001b[0m         \u001b[0;32mtry\u001b[0m\u001b[0;34m:\u001b[0m\u001b[0;34m\u001b[0m\u001b[0;34m\u001b[0m\u001b[0m\n",
      "\u001b[0;32m<ipython-input-5-4f5e98abf3dd>\u001b[0m in \u001b[0;36mlabel\u001b[0;34m(x)\u001b[0m\n\u001b[1;32m      3\u001b[0m     \u001b[0mdata\u001b[0m\u001b[0;34m[\u001b[0m\u001b[0;34m'month'\u001b[0m\u001b[0;34m]\u001b[0m\u001b[0;34m=\u001b[0m\u001b[0mx\u001b[0m\u001b[0;34m+\u001b[0m\u001b[0;36m1\u001b[0m\u001b[0;34m\u001b[0m\u001b[0;34m\u001b[0m\u001b[0m\n\u001b[1;32m      4\u001b[0m     \u001b[0mdata\u001b[0m\u001b[0;34m[\u001b[0m\u001b[0;34m'label'\u001b[0m\u001b[0;34m]\u001b[0m\u001b[0;34m=\u001b[0m\u001b[0;36m0\u001b[0m\u001b[0;34m\u001b[0m\u001b[0;34m\u001b[0m\u001b[0m\n\u001b[0;32m----> 5\u001b[0;31m     \u001b[0mdata\u001b[0m\u001b[0;34m[\u001b[0m\u001b[0;34m'return'\u001b[0m\u001b[0;34m]\u001b[0m\u001b[0;34m=\u001b[0m\u001b[0mTR\u001b[0m\u001b[0;34m[\u001b[0m\u001b[0mdate\u001b[0m\u001b[0;34m[\u001b[0m\u001b[0mx\u001b[0m\u001b[0;34m+\u001b[0m\u001b[0;36m1\u001b[0m\u001b[0;34m]\u001b[0m\u001b[0;34m]\u001b[0m\u001b[0;34m\u001b[0m\u001b[0;34m\u001b[0m\u001b[0m\n\u001b[0m\u001b[1;32m      6\u001b[0m     \u001b[0;31m# time label\u001b[0m\u001b[0;34m\u001b[0m\u001b[0;34m\u001b[0m\u001b[0;34m\u001b[0m\u001b[0m\n\u001b[1;32m      7\u001b[0m     \u001b[0mt\u001b[0m\u001b[0;34m=\u001b[0m\u001b[0mget_all_securities\u001b[0m\u001b[0;34m(\u001b[0m\u001b[0mtypes\u001b[0m\u001b[0;34m=\u001b[0m\u001b[0;34m[\u001b[0m\u001b[0;34m'stock'\u001b[0m\u001b[0;34m]\u001b[0m\u001b[0;34m,\u001b[0m \u001b[0mdate\u001b[0m\u001b[0;34m=\u001b[0m\u001b[0;32mNone\u001b[0m\u001b[0;34m)\u001b[0m\u001b[0;34m[\u001b[0m\u001b[0;34m'start_date'\u001b[0m\u001b[0;34m]\u001b[0m\u001b[0;34m\u001b[0m\u001b[0;34m\u001b[0m\u001b[0m\n",
      "\u001b[0;31mIndexError\u001b[0m: index 12 is out of bounds for axis 0 with size 12"
     ]
    }
   ],
   "source": [
    "for i in range(12):  #change according to the total month\n",
    "    data=label(i)\n",
    "    for fct in factorList:\n",
    "        factor_data=get_factor_values(securities=[*idx],factors=[fct],start_date=str(date[i]), end_date=str(date[i+1]))\n",
    "        try:\n",
    "            temp=factor_data[fct].T\n",
    "        except KeyError:\n",
    "            continue\n",
    "        data[fct]=Extract_data(temp)\n",
    "    data.to_excel(date[i]+'.xlsx')"
   ]
  },
  {
   "cell_type": "markdown",
   "metadata": {},
   "source": [
    "dealing with the intercept"
   ]
  },
  {
   "cell_type": "code",
   "execution_count": 18,
   "metadata": {},
   "outputs": [],
   "source": [
    "data=label(i)\n",
    "for fct in factorList:\n",
    "    factor_data=get_factor_values(securities=[*idx],factors=[fct],start_date=str(date[i]), end_date=str(date[i+1]))\n",
    "    try:\n",
    "        temp=factor_data[fct].T\n",
    "    except KeyError:\n",
    "        continue\n",
    "    data[fct]=Extract_data(temp)\n",
    "data.to_excel(date[i]+'.xlsx')"
   ]
  },
  {
   "cell_type": "code",
   "execution_count": 17,
   "metadata": {},
   "outputs": [
    {
     "data": {
      "text/plain": [
       "'2010-12-28'"
      ]
     },
     "execution_count": 17,
     "metadata": {},
     "output_type": "execute_result"
    }
   ],
   "source": [
    "i=23\n",
    "date[i]"
   ]
  },
  {
   "cell_type": "code",
   "execution_count": null,
   "metadata": {},
   "outputs": [],
   "source": []
  }
 ],
 "metadata": {
  "kernelspec": {
   "display_name": "Python 3",
   "language": "python",
   "name": "python3"
  },
  "language_info": {
   "codemirror_mode": {
    "name": "ipython",
    "version": 3
   },
   "file_extension": ".py",
   "mimetype": "text/x-python",
   "name": "python",
   "nbconvert_exporter": "python",
   "pygments_lexer": "ipython3",
   "version": "3.6.7"
  }
 },
 "nbformat": 4,
 "nbformat_minor": 2
}
